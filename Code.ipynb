{
 "cells": [
  {
   "cell_type": "markdown",
   "id": "3df2aac6",
   "metadata": {},
   "source": [
    "### 1. Reading datasets"
   ]
  },
  {
   "cell_type": "code",
   "execution_count": 1,
   "id": "e967e07b",
   "metadata": {
    "scrolled": false
   },
   "outputs": [
    {
     "data": {
      "text/html": [
       "<div>\n",
       "<style scoped>\n",
       "    .dataframe tbody tr th:only-of-type {\n",
       "        vertical-align: middle;\n",
       "    }\n",
       "\n",
       "    .dataframe tbody tr th {\n",
       "        vertical-align: top;\n",
       "    }\n",
       "\n",
       "    .dataframe thead th {\n",
       "        text-align: right;\n",
       "    }\n",
       "</style>\n",
       "<table border=\"1\" class=\"dataframe\">\n",
       "  <thead>\n",
       "    <tr style=\"text-align: right;\">\n",
       "      <th></th>\n",
       "      <th>ratings</th>\n",
       "      <th>title</th>\n",
       "      <th>text</th>\n",
       "      <th>author</th>\n",
       "      <th>date_stayed</th>\n",
       "      <th>offering_id</th>\n",
       "      <th>num_helpful_votes</th>\n",
       "      <th>date</th>\n",
       "      <th>id</th>\n",
       "      <th>via_mobile</th>\n",
       "    </tr>\n",
       "  </thead>\n",
       "  <tbody>\n",
       "    <tr>\n",
       "      <th>0</th>\n",
       "      <td>{'service': 1.0, 'cleanliness': 2.0, 'overall'...</td>\n",
       "      <td>“Horrible experience”</td>\n",
       "      <td>First of all we got there and they didn't have...</td>\n",
       "      <td>{'username': 'Kh3RD', 'num_reviews': 1, 'id': ...</td>\n",
       "      <td>September 2012</td>\n",
       "      <td>80138</td>\n",
       "      <td>0</td>\n",
       "      <td>2012-09-19</td>\n",
       "      <td>140716137</td>\n",
       "      <td>False</td>\n",
       "    </tr>\n",
       "    <tr>\n",
       "      <th>1</th>\n",
       "      <td>{'cleanliness': 1.0, 'sleep_quality': 1.0, 'ov...</td>\n",
       "      <td>“Stay Away”</td>\n",
       "      <td>Found Racist graffiti in the room. Request to ...</td>\n",
       "      <td>{'username': 'TheUglyPhotographer', 'num_citie...</td>\n",
       "      <td>June 2011</td>\n",
       "      <td>240151</td>\n",
       "      <td>1</td>\n",
       "      <td>2011-06-27</td>\n",
       "      <td>114807323</td>\n",
       "      <td>False</td>\n",
       "    </tr>\n",
       "    <tr>\n",
       "      <th>2</th>\n",
       "      <td>{'service': 4.0, 'cleanliness': 5.0, 'overall'...</td>\n",
       "      <td>“Great location and service”</td>\n",
       "      <td>Close to Union Square - hotel is a bit of a ma...</td>\n",
       "      <td>{'username': 'Moonstonemoclips', 'num_cities':...</td>\n",
       "      <td>October 2010</td>\n",
       "      <td>80793</td>\n",
       "      <td>0</td>\n",
       "      <td>2010-10-25</td>\n",
       "      <td>84805430</td>\n",
       "      <td>False</td>\n",
       "    </tr>\n",
       "    <tr>\n",
       "      <th>3</th>\n",
       "      <td>{'service': 3.0, 'cleanliness': 2.0, 'overall'...</td>\n",
       "      <td>“I will never go back here again!”</td>\n",
       "      <td>I had a bad vibe about this place from the mom...</td>\n",
       "      <td>{'username': 'JoanellenJ', 'num_cities': 10, '...</td>\n",
       "      <td>June 2012</td>\n",
       "      <td>111418</td>\n",
       "      <td>1</td>\n",
       "      <td>2012-06-28</td>\n",
       "      <td>132971117</td>\n",
       "      <td>False</td>\n",
       "    </tr>\n",
       "    <tr>\n",
       "      <th>4</th>\n",
       "      <td>{'overall': 1.0}</td>\n",
       "      <td>“Ripped off our VISA card after departure”</td>\n",
       "      <td>After we received our \"final\" bill and left th...</td>\n",
       "      <td>{'username': 'Lynnworks', 'num_cities': 3, 'nu...</td>\n",
       "      <td>January 2012</td>\n",
       "      <td>671150</td>\n",
       "      <td>3</td>\n",
       "      <td>2012-02-04</td>\n",
       "      <td>124104157</td>\n",
       "      <td>False</td>\n",
       "    </tr>\n",
       "  </tbody>\n",
       "</table>\n",
       "</div>"
      ],
      "text/plain": [
       "                                             ratings  \\\n",
       "0  {'service': 1.0, 'cleanliness': 2.0, 'overall'...   \n",
       "1  {'cleanliness': 1.0, 'sleep_quality': 1.0, 'ov...   \n",
       "2  {'service': 4.0, 'cleanliness': 5.0, 'overall'...   \n",
       "3  {'service': 3.0, 'cleanliness': 2.0, 'overall'...   \n",
       "4                                   {'overall': 1.0}   \n",
       "\n",
       "                                        title  \\\n",
       "0                       “Horrible experience”   \n",
       "1                                 “Stay Away”   \n",
       "2                “Great location and service”   \n",
       "3          “I will never go back here again!”   \n",
       "4  “Ripped off our VISA card after departure”   \n",
       "\n",
       "                                                text  \\\n",
       "0  First of all we got there and they didn't have...   \n",
       "1  Found Racist graffiti in the room. Request to ...   \n",
       "2  Close to Union Square - hotel is a bit of a ma...   \n",
       "3  I had a bad vibe about this place from the mom...   \n",
       "4  After we received our \"final\" bill and left th...   \n",
       "\n",
       "                                              author     date_stayed  \\\n",
       "0  {'username': 'Kh3RD', 'num_reviews': 1, 'id': ...  September 2012   \n",
       "1  {'username': 'TheUglyPhotographer', 'num_citie...       June 2011   \n",
       "2  {'username': 'Moonstonemoclips', 'num_cities':...    October 2010   \n",
       "3  {'username': 'JoanellenJ', 'num_cities': 10, '...       June 2012   \n",
       "4  {'username': 'Lynnworks', 'num_cities': 3, 'nu...    January 2012   \n",
       "\n",
       "   offering_id  num_helpful_votes       date         id  via_mobile  \n",
       "0        80138                  0 2012-09-19  140716137       False  \n",
       "1       240151                  1 2011-06-27  114807323       False  \n",
       "2        80793                  0 2010-10-25   84805430       False  \n",
       "3       111418                  1 2012-06-28  132971117       False  \n",
       "4       671150                  3 2012-02-04  124104157       False  "
      ]
     },
     "execution_count": 1,
     "metadata": {},
     "output_type": "execute_result"
    }
   ],
   "source": [
    "\n",
    "import os\n",
    "import json\n",
    "import pandas as pd\n",
    "dataset = os.path.join('random_30000_hotel_reviews.JSON')\n",
    "dat = pd.read_json(dataset, lines=True)\n",
    "dat.head()"
   ]
  },
  {
   "cell_type": "code",
   "execution_count": 2,
   "id": "753e6da4",
   "metadata": {},
   "outputs": [
    {
     "data": {
      "text/plain": [
       "0    “Horrible experience” First of all we got ther...\n",
       "1    “Stay Away” Found Racist graffiti in the room....\n",
       "2    “Great location and service” Close to Union Sq...\n",
       "3    “I will never go back here again!” I had a bad...\n",
       "4    “Ripped off our VISA card after departure” Aft...\n",
       "Name: com, dtype: object"
      ]
     },
     "execution_count": 2,
     "metadata": {},
     "output_type": "execute_result"
    }
   ],
   "source": [
    "\n",
    "dat['com']=dat['title']+\" \"+dat['text']\n",
    "dat['com'].head()"
   ]
  },
  {
   "cell_type": "code",
   "execution_count": 3,
   "id": "61d03498",
   "metadata": {},
   "outputs": [
    {
     "data": {
      "text/plain": [
       "0     Horrible experience First of all we got there...\n",
       "1     Stay Away Found Racist graffiti in the room R...\n",
       "2     Great location and service Close to Union Squ...\n",
       "3     I will never go back here again I had a bad v...\n",
       "4     Ripped off our VISA card after departure Afte...\n",
       "Name: com, dtype: object"
      ]
     },
     "execution_count": 3,
     "metadata": {},
     "output_type": "execute_result"
    }
   ],
   "source": [
    "\n",
    "import re\n",
    "dat['com'] = dat['com'].apply(lambda x: re.sub(r'\\W+',' ', x))\n",
    "dat['com'].head()"
   ]
  },
  {
   "cell_type": "code",
   "execution_count": 4,
   "id": "4b729bdc",
   "metadata": {},
   "outputs": [
    {
     "name": "stderr",
     "output_type": "stream",
     "text": [
      "[nltk_data] Downloading package punkt to /home/haru/nltk_data...\n",
      "[nltk_data]   Package punkt is already up-to-date!\n"
     ]
    },
    {
     "data": {
      "text/plain": [
       "0    [horrible, experience, first, of, all, we, got...\n",
       "1    [stay, away, found, racist, graffiti, in, the,...\n",
       "2    [great, location, and, service, close, to, uni...\n",
       "3    [i, will, never, go, back, here, again, i, had...\n",
       "4    [ripped, off, our, visa, card, after, departur...\n",
       "Name: tokens, dtype: object"
      ]
     },
     "execution_count": 4,
     "metadata": {},
     "output_type": "execute_result"
    }
   ],
   "source": [
    "\n",
    "import nltk\n",
    "from nltk.tokenize import word_tokenize\n",
    "nltk.download('punkt')\n",
    "dat['tokens'] = dat['com'].apply(lambda row: word_tokenize(row.lower()))\n",
    "dat['tokens'].head()"
   ]
  },
  {
   "cell_type": "code",
   "execution_count": 5,
   "id": "9c4f7567",
   "metadata": {},
   "outputs": [
    {
     "data": {
      "text/plain": [
       "((10000, 13), (10000, 13), (10000, 13))"
      ]
     },
     "execution_count": 5,
     "metadata": {},
     "output_type": "execute_result"
    }
   ],
   "source": [
    "\n",
    "\n",
    "dat['overall_r']=dat['ratings'].apply(lambda row: row['overall'])\n",
    "train_d = dat[:10000]\n",
    "dev_d = dat[10000:20000]\n",
    "test_d = dat[20000:]\n",
    "\n",
    "\n",
    "train_d.shape, dev_d.shape, test_d.shape\n"
   ]
  },
  {
   "cell_type": "code",
   "execution_count": 6,
   "id": "ef0dab29",
   "metadata": {},
   "outputs": [
    {
     "data": {
      "text/plain": [
       "0"
      ]
     },
     "execution_count": 6,
     "metadata": {},
     "output_type": "execute_result"
    }
   ],
   "source": [
    "\n",
    "dat[['title','text','id']].duplicated().sum()"
   ]
  },
  {
   "cell_type": "markdown",
   "id": "31d75afc",
   "metadata": {},
   "source": [
    "### 2. Exploratory Data Analysis (EDA)"
   ]
  },
  {
   "cell_type": "code",
   "execution_count": 7,
   "id": "c46f4a44",
   "metadata": {
    "scrolled": true
   },
   "outputs": [
    {
     "name": "stderr",
     "output_type": "stream",
     "text": [
      "/tmp/ipykernel_14272/228083500.py:4: SettingWithCopyWarning: \n",
      "A value is trying to be set on a copy of a slice from a DataFrame.\n",
      "Try using .loc[row_indexer,col_indexer] = value instead\n",
      "\n",
      "See the caveats in the documentation: https://pandas.pydata.org/pandas-docs/stable/user_guide/indexing.html#returning-a-view-versus-a-copy\n",
      "  dev_d['num_unique']=dev_d['tokens'].apply(lambda row: np.unique(row))\n"
     ]
    },
    {
     "data": {
      "text/plain": [
       "10000    [a, across, and, at, but, cabs, care, clarke, ...\n",
       "10001    [2010, a, absolute, again, an, and, as, chaoti...\n",
       "10002    [100, 16th, 2, 6, 8ft, a, after, all, also, an...\n",
       "10003    [12th, 3, a, again, and, arrive, away, bathroo...\n",
       "10004    [11, 15, 45, 8, a, again, all, allerton, also,...\n",
       "                               ...                        \n",
       "19995    [5, a, again, and, be, beautiful, best, but, c...\n",
       "19996    [4th, and, breakfast, clean, convenient, downt...\n",
       "19997    [85, a, admission, afternoon, also, amazing, a...\n",
       "19998    [120, a, about, accommodation, again, aged, an...\n",
       "19999    [2, a, across, allowed, and, basically, be, be...\n",
       "Name: num_unique, Length: 10000, dtype: object"
      ]
     },
     "execution_count": 7,
     "metadata": {},
     "output_type": "execute_result"
    }
   ],
   "source": [
    "# Define a lambda function to count instances and extract unique words\n",
    "unique_words = lambda text: len(set(text))\n",
    "import numpy as np\n",
    "dev_d['num_unique']=dev_d['tokens'].apply(lambda row: np.unique(row))\n",
    "dev_d['num_unique']\n"
   ]
  },
  {
   "cell_type": "code",
   "execution_count": 8,
   "id": "37786ae1",
   "metadata": {},
   "outputs": [
    {
     "data": {
      "text/plain": [
       "overall_r\n",
       "1.0     672\n",
       "2.0     684\n",
       "3.0    1353\n",
       "4.0    3237\n",
       "5.0    4054\n",
       "Name: count, dtype: int64"
      ]
     },
     "execution_count": 8,
     "metadata": {},
     "output_type": "execute_result"
    }
   ],
   "source": [
    "\n",
    "# Re-extract the 'overall' rating for the development set to ensure it exists\n",
    "dev_d = dev_d.copy()  # This avoids SettingWithCopyWarning when we modify the DataFrame\n",
    "dev_d['overall_r'] = dev_d['ratings'].apply(lambda x: x.get('overall', np.nan))\n",
    "\n",
    "# Calculate the distribution of 'overall' ratings for the development set, again\n",
    "dev_overall_r = dev_d['overall_r'].value_counts().sort_index()\n",
    "\n",
    "# Recalculate the number of unique words in the review texts of the development set, avoiding warnings\n",
    "dev_d['unique_word_c'] = dev_d['text'].apply(lambda x: len(set(x.split())))\n",
    "total_unique_words_dev_corrected = dev_d['unique_word_c'].sum()\n",
    "\n",
    "# Display the total number of unique words in the development set, corrected\n",
    "dev_overall_r\n"
   ]
  },
  {
   "cell_type": "code",
   "execution_count": 9,
   "id": "6eed4fd8",
   "metadata": {
    "scrolled": false
   },
   "outputs": [
    {
     "data": {
      "image/png": "[encoded data removed]",
      "text/plain": [
       "<Figure size 1000x600 with 1 Axes>"
      ]
     },
     "metadata": {},
     "output_type": "display_data"
    }
   ],
   "source": [
    "# this plot shows overall rating vs total number of words\n",
    "import pandas as pd\n",
    "import matplotlib.pyplot as plt\n",
    "import seaborn as sns\n",
    "\n",
    "plt.figure(figsize=(10, 6))\n",
    "dev_overall_r.plot(kind='bar')\n",
    "plt.title('overall rating vs total number of words')\n",
    "plt.xlabel('Overall Rating')\n",
    "plt.ylabel('Number of Instances')\n",
    "plt.show()\n"
   ]
  },
  {
   "cell_type": "code",
   "execution_count": 10,
   "id": "84d3951f",
   "metadata": {},
   "outputs": [
    {
     "data": {
      "image/png": "[encoded data removed]",
      "text/plain": [
       "<Figure size 640x480 with 1 Axes>"
      ]
     },
     "metadata": {},
     "output_type": "display_data"
    }
   ],
   "source": [
    "# this plot shows overall rating over number of unique words\n",
    "plt.bar(x=dev_d['overall_r'],height=[len(a) for a in dev_d['num_unique']])\n",
    "plt.title('overall rating over number of unique words')\n",
    "plt.xlabel('Overall Rating')\n",
    "plt.ylabel('number of unique words')\n",
    "plt.show()"
   ]
  },
  {
   "cell_type": "code",
   "execution_count": 11,
   "id": "28b94af8",
   "metadata": {},
   "outputs": [
    {
     "data": {
      "image/png": "[encoded data removed]",
      "text/plain": [
       "<Figure size 1000x1500 with 5 Axes>"
      ]
     },
     "metadata": {},
     "output_type": "display_data"
    }
   ],
   "source": [
    "# this plot shows overall rating over number of instances of unique words\n",
    "import matplotlib.pyplot as plt\n",
    "import collections\n",
    "fig,ax=plt.subplots(nrows=5,figsize=(10,15))\n",
    "no_of_instances=pd.DataFrame({'overall_r':[a for a in range(1,6)]})\n",
    "no_of_instances['comment_combined']=\"\"\n",
    "for i,rating in enumerate(no_of_instances['overall_r']):\n",
    "    no_of_instances.loc[i,'comment_combined']=(\"\".join(dev_d['com'][dev_d['overall_r']==rating])).lower()\n",
    "no_of_instances['unique_words']=no_of_instances['comment_combined'].apply(lambda row: (word_tokenize(row)))\n",
    "\n",
    "for i in range(5):\n",
    "    counter=collections.Counter(no_of_instances['unique_words'][i])\n",
    "    ax[i].bar(x=list(dict(sorted(dict(counter).items(),key=lambda x: x[1],reverse=True)[:10]).keys()),height=dict(sorted(dict(counter).items(),key=lambda x: x[1],reverse=True)[:10]).values())\n",
    "    ax[i].title.set_text(\"overall_r: \"+str(no_of_instances['overall_r'][i]))"
   ]
  },
  {
   "cell_type": "markdown",
   "id": "333cefa8",
   "metadata": {},
   "source": [
    "### 3. Preprocessing"
   ]
  },
  {
   "cell_type": "code",
   "execution_count": 12,
   "id": "ad8a4bc7",
   "metadata": {},
   "outputs": [
    {
     "name": "stdout",
     "output_type": "stream",
     "text": [
      "Requirement already satisfied: spacy in /home/haru/miniconda3/lib/python3.11/site-packages (3.7.2)\n",
      "Requirement already satisfied: spacy-legacy<3.1.0,>=3.0.11 in /home/haru/miniconda3/lib/python3.11/site-packages (from spacy) (3.0.12)\n",
      "Requirement already satisfied: spacy-loggers<2.0.0,>=1.0.0 in /home/haru/miniconda3/lib/python3.11/site-packages (from spacy) (1.0.4)\n",
      "Requirement already satisfied: murmurhash<1.1.0,>=0.28.0 in /home/haru/miniconda3/lib/python3.11/site-packages (from spacy) (1.0.7)\n",
      "Requirement already satisfied: cymem<2.1.0,>=2.0.2 in /home/haru/miniconda3/lib/python3.11/site-packages (from spacy) (2.0.6)\n",
      "Requirement already satisfied: preshed<3.1.0,>=3.0.2 in /home/haru/miniconda3/lib/python3.11/site-packages (from spacy) (3.0.6)\n",
      "Requirement already satisfied: thinc<8.3.0,>=8.1.8 in /home/haru/miniconda3/lib/python3.11/site-packages (from spacy) (8.2.2)\n",
      "Requirement already satisfied: wasabi<1.2.0,>=0.9.1 in /home/haru/miniconda3/lib/python3.11/site-packages (from spacy) (0.9.1)\n",
      "Requirement already satisfied: srsly<3.0.0,>=2.4.3 in /home/haru/miniconda3/lib/python3.11/site-packages (from spacy) (2.4.8)\n",
      "Requirement already satisfied: catalogue<2.1.0,>=2.0.6 in /home/haru/miniconda3/lib/python3.11/site-packages (from spacy) (2.0.10)\n",
      "Requirement already satisfied: weasel<0.4.0,>=0.1.0 in /home/haru/miniconda3/lib/python3.11/site-packages (from spacy) (0.3.4)\n",
      "Requirement already satisfied: typer<0.10.0,>=0.3.0 in /home/haru/miniconda3/lib/python3.11/site-packages (from spacy) (0.9.0)\n",
      "Requirement already satisfied: smart-open<7.0.0,>=5.2.1 in /home/haru/miniconda3/lib/python3.11/site-packages (from spacy) (5.2.1)\n",
      "Requirement already satisfied: tqdm<5.0.0,>=4.38.0 in /home/haru/miniconda3/lib/python3.11/site-packages (from spacy) (4.65.0)\n",
      "Requirement already satisfied: requests<3.0.0,>=2.13.0 in /home/haru/miniconda3/lib/python3.11/site-packages (from spacy) (2.31.0)\n",
      "Requirement already satisfied: pydantic!=1.8,!=1.8.1,<3.0.0,>=1.7.4 in /home/haru/miniconda3/lib/python3.11/site-packages (from spacy) (1.10.12)\n",
      "Requirement already satisfied: jinja2 in /home/haru/miniconda3/lib/python3.11/site-packages (from spacy) (3.1.3)\n",
      "Requirement already satisfied: setuptools in /home/haru/miniconda3/lib/python3.11/site-packages (from spacy) (68.2.2)\n",
      "Requirement already satisfied: packaging>=20.0 in /home/haru/miniconda3/lib/python3.11/site-packages (from spacy) (23.1)\n",
      "Requirement already satisfied: langcodes<4.0.0,>=3.2.0 in /home/haru/miniconda3/lib/python3.11/site-packages (from spacy) (3.3.0)\n",
      "Requirement already satisfied: numpy>=1.19.0 in /home/haru/miniconda3/lib/python3.11/site-packages (from spacy) (1.24.3)\n",
      "Requirement already satisfied: typing-extensions>=4.2.0 in /home/haru/miniconda3/lib/python3.11/site-packages (from pydantic!=1.8,!=1.8.1,<3.0.0,>=1.7.4->spacy) (4.9.0)\n",
      "Requirement already satisfied: charset-normalizer<4,>=2 in /home/haru/miniconda3/lib/python3.11/site-packages (from requests<3.0.0,>=2.13.0->spacy) (2.0.4)\n",
      "Requirement already satisfied: idna<4,>=2.5 in /home/haru/miniconda3/lib/python3.11/site-packages (from requests<3.0.0,>=2.13.0->spacy) (3.4)\n",
      "Requirement already satisfied: urllib3<3,>=1.21.1 in /home/haru/miniconda3/lib/python3.11/site-packages (from requests<3.0.0,>=2.13.0->spacy) (1.26.18)\n",
      "Requirement already satisfied: certifi>=2017.4.17 in /home/haru/miniconda3/lib/python3.11/site-packages (from requests<3.0.0,>=2.13.0->spacy) (2024.2.2)\n",
      "Requirement already satisfied: blis<0.8.0,>=0.7.8 in /home/haru/miniconda3/lib/python3.11/site-packages (from thinc<8.3.0,>=8.1.8->spacy) (0.7.9)\n",
      "Requirement already satisfied: confection<1.0.0,>=0.0.1 in /home/haru/miniconda3/lib/python3.11/site-packages (from thinc<8.3.0,>=8.1.8->spacy) (0.1.4)\n",
      "Requirement already satisfied: click<9.0.0,>=7.1.1 in /home/haru/miniconda3/lib/python3.11/site-packages (from typer<0.10.0,>=0.3.0->spacy) (8.1.7)\n",
      "Requirement already satisfied: cloudpathlib<0.17.0,>=0.7.0 in /home/haru/miniconda3/lib/python3.11/site-packages (from weasel<0.4.0,>=0.1.0->spacy) (0.16.0)\n",
      "Requirement already satisfied: MarkupSafe>=2.0 in /home/haru/miniconda3/lib/python3.11/site-packages (from jinja2->spacy) (2.1.3)\n",
      "Note: you may need to restart the kernel to use updated packages.\n"
     ]
    }
   ],
   "source": [
    "pip install spacy"
   ]
  },
  {
   "cell_type": "code",
   "execution_count": 13,
   "id": "e0d3be04",
   "metadata": {
    "scrolled": false
   },
   "outputs": [
    {
     "name": "stderr",
     "output_type": "stream",
     "text": [
      "/tmp/ipykernel_14272/2839882758.py:25: SettingWithCopyWarning: \n",
      "A value is trying to be set on a copy of a slice from a DataFrame.\n",
      "Try using .loc[row_indexer,col_indexer] = value instead\n",
      "\n",
      "See the caveats in the documentation: https://pandas.pydata.org/pandas-docs/stable/user_guide/indexing.html#returning-a-view-versus-a-copy\n",
      "  train_d['cleaned comment']=train_d['com'].apply(lambda row: clearer(row))\n"
     ]
    },
    {
     "data": {
      "text/html": [
       "<div>\n",
       "<style scoped>\n",
       "    .dataframe tbody tr th:only-of-type {\n",
       "        vertical-align: middle;\n",
       "    }\n",
       "\n",
       "    .dataframe tbody tr th {\n",
       "        vertical-align: top;\n",
       "    }\n",
       "\n",
       "    .dataframe thead th {\n",
       "        text-align: right;\n",
       "    }\n",
       "</style>\n",
       "<table border=\"1\" class=\"dataframe\">\n",
       "  <thead>\n",
       "    <tr style=\"text-align: right;\">\n",
       "      <th></th>\n",
       "      <th>ratings</th>\n",
       "      <th>title</th>\n",
       "      <th>text</th>\n",
       "      <th>author</th>\n",
       "      <th>date_stayed</th>\n",
       "      <th>offering_id</th>\n",
       "      <th>num_helpful_votes</th>\n",
       "      <th>date</th>\n",
       "      <th>id</th>\n",
       "      <th>via_mobile</th>\n",
       "      <th>com</th>\n",
       "      <th>tokens</th>\n",
       "      <th>overall_r</th>\n",
       "      <th>cleaned comment</th>\n",
       "    </tr>\n",
       "  </thead>\n",
       "  <tbody>\n",
       "    <tr>\n",
       "      <th>0</th>\n",
       "      <td>{'service': 1.0, 'cleanliness': 2.0, 'overall'...</td>\n",
       "      <td>“Horrible experience”</td>\n",
       "      <td>First of all we got there and they didn't have...</td>\n",
       "      <td>{'username': 'Kh3RD', 'num_reviews': 1, 'id': ...</td>\n",
       "      <td>September 2012</td>\n",
       "      <td>80138</td>\n",
       "      <td>0</td>\n",
       "      <td>2012-09-19</td>\n",
       "      <td>140716137</td>\n",
       "      <td>False</td>\n",
       "      <td>Horrible experience First of all we got there...</td>\n",
       "      <td>[horrible, experience, first, of, all, we, got...</td>\n",
       "      <td>1.0</td>\n",
       "      <td>horrible experience first get room book pay we...</td>\n",
       "    </tr>\n",
       "    <tr>\n",
       "      <th>1</th>\n",
       "      <td>{'cleanliness': 1.0, 'sleep_quality': 1.0, 'ov...</td>\n",
       "      <td>“Stay Away”</td>\n",
       "      <td>Found Racist graffiti in the room. Request to ...</td>\n",
       "      <td>{'username': 'TheUglyPhotographer', 'num_citie...</td>\n",
       "      <td>June 2011</td>\n",
       "      <td>240151</td>\n",
       "      <td>1</td>\n",
       "      <td>2011-06-27</td>\n",
       "      <td>114807323</td>\n",
       "      <td>False</td>\n",
       "      <td>Stay Away Found Racist graffiti in the room R...</td>\n",
       "      <td>[stay, away, found, racist, graffiti, in, the,...</td>\n",
       "      <td>1.0</td>\n",
       "      <td>stay away find racist graffiti room request ch...</td>\n",
       "    </tr>\n",
       "    <tr>\n",
       "      <th>2</th>\n",
       "      <td>{'service': 4.0, 'cleanliness': 5.0, 'overall'...</td>\n",
       "      <td>“Great location and service”</td>\n",
       "      <td>Close to Union Square - hotel is a bit of a ma...</td>\n",
       "      <td>{'username': 'Moonstonemoclips', 'num_cities':...</td>\n",
       "      <td>October 2010</td>\n",
       "      <td>80793</td>\n",
       "      <td>0</td>\n",
       "      <td>2010-10-25</td>\n",
       "      <td>84805430</td>\n",
       "      <td>False</td>\n",
       "      <td>Great location and service Close to Union Squ...</td>\n",
       "      <td>[great, location, and, service, close, to, uni...</td>\n",
       "      <td>4.0</td>\n",
       "      <td>great location service close union square hote...</td>\n",
       "    </tr>\n",
       "    <tr>\n",
       "      <th>3</th>\n",
       "      <td>{'service': 3.0, 'cleanliness': 2.0, 'overall'...</td>\n",
       "      <td>“I will never go back here again!”</td>\n",
       "      <td>I had a bad vibe about this place from the mom...</td>\n",
       "      <td>{'username': 'JoanellenJ', 'num_cities': 10, '...</td>\n",
       "      <td>June 2012</td>\n",
       "      <td>111418</td>\n",
       "      <td>1</td>\n",
       "      <td>2012-06-28</td>\n",
       "      <td>132971117</td>\n",
       "      <td>False</td>\n",
       "      <td>I will never go back here again I had a bad v...</td>\n",
       "      <td>[i, will, never, go, back, here, again, i, had...</td>\n",
       "      <td>2.0</td>\n",
       "      <td>never go back bad vibe place moment walk main ...</td>\n",
       "    </tr>\n",
       "    <tr>\n",
       "      <th>4</th>\n",
       "      <td>{'overall': 1.0}</td>\n",
       "      <td>“Ripped off our VISA card after departure”</td>\n",
       "      <td>After we received our \"final\" bill and left th...</td>\n",
       "      <td>{'username': 'Lynnworks', 'num_cities': 3, 'nu...</td>\n",
       "      <td>January 2012</td>\n",
       "      <td>671150</td>\n",
       "      <td>3</td>\n",
       "      <td>2012-02-04</td>\n",
       "      <td>124104157</td>\n",
       "      <td>False</td>\n",
       "      <td>Ripped off our VISA card after departure Afte...</td>\n",
       "      <td>[ripped, off, our, visa, card, after, departur...</td>\n",
       "      <td>1.0</td>\n",
       "      <td>rip visa card departure receive final bill lea...</td>\n",
       "    </tr>\n",
       "  </tbody>\n",
       "</table>\n",
       "</div>"
      ],
      "text/plain": [
       "                                             ratings  \\\n",
       "0  {'service': 1.0, 'cleanliness': 2.0, 'overall'...   \n",
       "1  {'cleanliness': 1.0, 'sleep_quality': 1.0, 'ov...   \n",
       "2  {'service': 4.0, 'cleanliness': 5.0, 'overall'...   \n",
       "3  {'service': 3.0, 'cleanliness': 2.0, 'overall'...   \n",
       "4                                   {'overall': 1.0}   \n",
       "\n",
       "                                        title  \\\n",
       "0                       “Horrible experience”   \n",
       "1                                 “Stay Away”   \n",
       "2                “Great location and service”   \n",
       "3          “I will never go back here again!”   \n",
       "4  “Ripped off our VISA card after departure”   \n",
       "\n",
       "                                                text  \\\n",
       "0  First of all we got there and they didn't have...   \n",
       "1  Found Racist graffiti in the room. Request to ...   \n",
       "2  Close to Union Square - hotel is a bit of a ma...   \n",
       "3  I had a bad vibe about this place from the mom...   \n",
       "4  After we received our \"final\" bill and left th...   \n",
       "\n",
       "                                              author     date_stayed  \\\n",
       "0  {'username': 'Kh3RD', 'num_reviews': 1, 'id': ...  September 2012   \n",
       "1  {'username': 'TheUglyPhotographer', 'num_citie...       June 2011   \n",
       "2  {'username': 'Moonstonemoclips', 'num_cities':...    October 2010   \n",
       "3  {'username': 'JoanellenJ', 'num_cities': 10, '...       June 2012   \n",
       "4  {'username': 'Lynnworks', 'num_cities': 3, 'nu...    January 2012   \n",
       "\n",
       "   offering_id  num_helpful_votes       date         id  via_mobile  \\\n",
       "0        80138                  0 2012-09-19  140716137       False   \n",
       "1       240151                  1 2011-06-27  114807323       False   \n",
       "2        80793                  0 2010-10-25   84805430       False   \n",
       "3       111418                  1 2012-06-28  132971117       False   \n",
       "4       671150                  3 2012-02-04  124104157       False   \n",
       "\n",
       "                                                 com  \\\n",
       "0   Horrible experience First of all we got there...   \n",
       "1   Stay Away Found Racist graffiti in the room R...   \n",
       "2   Great location and service Close to Union Squ...   \n",
       "3   I will never go back here again I had a bad v...   \n",
       "4   Ripped off our VISA card after departure Afte...   \n",
       "\n",
       "                                              tokens  overall_r  \\\n",
       "0  [horrible, experience, first, of, all, we, got...        1.0   \n",
       "1  [stay, away, found, racist, graffiti, in, the,...        1.0   \n",
       "2  [great, location, and, service, close, to, uni...        4.0   \n",
       "3  [i, will, never, go, back, here, again, i, had...        2.0   \n",
       "4  [ripped, off, our, visa, card, after, departur...        1.0   \n",
       "\n",
       "                                     cleaned comment  \n",
       "0  horrible experience first get room book pay we...  \n",
       "1  stay away find racist graffiti room request ch...  \n",
       "2  great location service close union square hote...  \n",
       "3  never go back bad vibe place moment walk main ...  \n",
       "4  rip visa card departure receive final bill lea...  "
      ]
     },
     "execution_count": 13,
     "metadata": {},
     "output_type": "execute_result"
    }
   ],
   "source": [
    "# lemmatization,removing stop words and vectorization and tf-idf\n",
    "\n",
    "from nltk.corpus import stopwords\n",
    "stop_words = set(stopwords.words('english'))\n",
    "from string import punctuation\n",
    "\n",
    "import spacy\n",
    "nlp=spacy.load('en_core_web_sm')\n",
    "# defining a clear function\n",
    "def clearer(com):\n",
    "    # making the text lowercase \n",
    "    com=com.lower()\n",
    "    # removing new lines\n",
    "    com=com.replace(\"\\t\",\"\")\n",
    "    # removing punctuations\n",
    "    com=\"\".join([character for character in com if character not in punctuation])\n",
    "    # tokenization\n",
    "    com=word_tokenize(com)\n",
    "    #removing stop words\n",
    "    com=[word for word in com if word not in stop_words]\n",
    "    # removing any extra spces might be useful\n",
    "    doc=nlp(\" \".join(com))\n",
    "    com=[word.lemma_ for word in doc]\n",
    "    return \" \".join(com) \n",
    "train_d['cleaned comment']=train_d['com'].apply(lambda row: clearer(row))\n",
    "dev_d['cleaned comment']=dev_d['com'].apply(lambda row: clearer(row))\n",
    "#data['review']=data['review'].apply(lambda row: clear(row))\n",
    "train_d.head()"
   ]
  },
  {
   "cell_type": "code",
   "execution_count": 14,
   "id": "73e9ac8b",
   "metadata": {
    "scrolled": true
   },
   "outputs": [
    {
     "name": "stdout",
     "output_type": "stream",
     "text": [
      "Index(['ratings', 'title', 'text', 'author', 'date_stayed', 'offering_id',\n",
      "       'num_helpful_votes', 'date', 'id', 'via_mobile', 'com', 'tokens',\n",
      "       'overall_r', 'cleaned comment'],\n",
      "      dtype='object')\n"
     ]
    }
   ],
   "source": [
    "print(train_d.columns)"
   ]
  },
  {
   "cell_type": "code",
   "execution_count": 15,
   "id": "3b8f0e73",
   "metadata": {
    "scrolled": true
   },
   "outputs": [],
   "source": [
    "# Upscaling the training dataset\n",
    "import pandas as pd\n",
    "import numpy as np\n",
    "\n",
    "# Assuming 'train' DataFrame with 'overall_rating' as the target\n",
    "X_train = train_d.drop('overall_r', axis=1)  \n",
    "y_train = train_d['overall_r']\n",
    "\n",
    "# Combine X_train and y_train to simplify resampling\n",
    "train_combined = pd.concat([X_train, y_train], axis=1)\n",
    "\n",
    "# Determine the number of instances in the largest class\n",
    "max_size = train_combined['overall_r'].value_counts().max()\n",
    "\n",
    "# Upsample each class to match the max size\n",
    "resampled = [train_combined[train_combined['overall_r'] == class_].sample(n=max_size, replace=True, random_state=42) for class_ in train_combined['overall_r'].unique()]\n",
    "\n",
    "# Combine the resampled classes back into one DataFrame\n",
    "train_resampled = pd.concat(resampled)\n",
    "\n",
    "# Separate the features and the target variable after resampling\n",
    "X_train_b = train_resampled.drop('overall_r', axis=1)\n",
    "y_train_b = train_resampled['overall_r']\n"
   ]
  },
  {
   "cell_type": "code",
   "execution_count": 16,
   "id": "067bc6d8",
   "metadata": {
    "scrolled": false
   },
   "outputs": [
    {
     "name": "stdout",
     "output_type": "stream",
     "text": [
      "Original Dataset Distribution:\n",
      "overall_r\n",
      "5.0    4136\n",
      "4.0    3195\n",
      "3.0    1377\n",
      "2.0     664\n",
      "1.0     628\n",
      "Name: count, dtype: int64\n",
      "\n",
      "Balanced Dataset Distribution:\n",
      "overall_r\n",
      "1.0    4136\n",
      "4.0    4136\n",
      "2.0    4136\n",
      "3.0    4136\n",
      "5.0    4136\n",
      "Name: count, dtype: int64\n"
     ]
    },
    {
     "data": {
      "image/png": "[encoded data removed]",
      "text/plain": [
       "<Figure size 1400x500 with 2 Axes>"
      ]
     },
     "metadata": {},
     "output_type": "display_data"
    }
   ],
   "source": [
    "import matplotlib.pyplot as plt\n",
    "\n",
    "# Display the value counts for the original and balanced datasets\n",
    "print(\"Original Dataset Distribution:\")\n",
    "print(y_train.value_counts())\n",
    "\n",
    "print(\"\\nBalanced Dataset Distribution:\")\n",
    "print(y_train_b.value_counts())\n",
    "\n",
    "# Plotting the distributions\n",
    "fig, ax = plt.subplots(ncols=2, figsize=(14, 5))\n",
    "\n",
    "# Bar graph for the original dataset\n",
    "y_train.value_counts().plot(kind='bar', ax=ax[0], color='skyblue')\n",
    "ax[0].set_title('Class Distribution in Unbalanced Dataset')\n",
    "ax[0].set_xlabel('Overall R')\n",
    "ax[0].set_ylabel('Number of Instances')\n",
    "\n",
    "# Bar graph for the balanced dataset\n",
    "y_train_b.value_counts().plot(kind='bar', ax=ax[1], color='lightgreen')\n",
    "ax[1].set_title('Class Distribution in Oversampled Dataset')\n",
    "ax[1].set_xlabel('Overall R')\n",
    "ax[1].set_ylabel('Number of Instances')\n",
    "\n",
    "plt.tight_layout()\n",
    "plt.show()"
   ]
  },
  {
   "cell_type": "code",
   "execution_count": 17,
   "id": "0a5cadca",
   "metadata": {},
   "outputs": [
    {
     "name": "stdout",
     "output_type": "stream",
     "text": [
      "[[0. 0. 0. ... 0. 0. 0.]\n",
      " [0. 0. 0. ... 0. 0. 0.]\n",
      " [0. 0. 0. ... 0. 0. 0.]\n",
      " ...\n",
      " [0. 0. 0. ... 0. 0. 0.]\n",
      " [0. 0. 0. ... 0. 0. 0.]\n",
      " [0. 0. 0. ... 0. 0. 0.]]\n"
     ]
    }
   ],
   "source": [
    "## Vectorization using tf-idf (chosen tf-idf since it takes into account the importance of a word using the frequencies)\n",
    "## vectorizing by taking the corpus only from train dataset\n",
    "from sklearn.feature_extraction.text import TfidfVectorizer\n",
    "vectorizer=TfidfVectorizer()\n",
    "train_cor=[row for row in X_train_b['cleaned comment']]\n",
    "train_tfidf=vectorizer.fit_transform(train_cor)\n",
    "print(train_tfidf.toarray())"
   ]
  },
  {
   "cell_type": "markdown",
   "id": "067cebcf",
   "metadata": {},
   "source": [
    "### 4. Selecting supervised method for sentiment classification"
   ]
  },
  {
   "cell_type": "markdown",
   "id": "1a9cee05",
   "metadata": {},
   "source": [
    "SVM is a powerful and reliable technique for sentiment analysis, thanks to its capacity to handle complex and high-dimensional spaces, making it well-suited for text classification tasks, especially in scenarios with sparse and extensive feature spaces."
   ]
  },
  {
   "cell_type": "code",
   "execution_count": 18,
   "id": "e356a2b9",
   "metadata": {},
   "outputs": [
    {
     "name": "stdout",
     "output_type": "stream",
     "text": [
      "[4. 5. 1. ... 4. 4. 4.]\n",
      "Accuracy:  0.6084\n",
      "Report:\n",
      "               precision    recall  f1-score   support\n",
      "\n",
      "         1.0       0.65      0.64      0.65       672\n",
      "         2.0       0.37      0.23      0.29       684\n",
      "         3.0       0.43      0.46      0.45      1353\n",
      "         4.0       0.55      0.60      0.57      3237\n",
      "         5.0       0.74      0.72      0.73      4054\n",
      "\n",
      "    accuracy                           0.61     10000\n",
      "   macro avg       0.55      0.53      0.54     10000\n",
      "weighted avg       0.61      0.61      0.61     10000\n",
      "\n"
     ]
    }
   ],
   "source": [
    "\n",
    "from sklearn.feature_extraction.text import TfidfVectorizer\n",
    "from sklearn.svm import SVC\n",
    "from sklearn.pipeline import Pipeline\n",
    "from sklearn.metrics import accuracy_score\n",
    "from sklearn.metrics import f1_score\n",
    "from sklearn.metrics import classification_report\n",
    "\n",
    "# Preparing the development set\n",
    "X_dev=dev_d.drop('overall_r',axis=1)\n",
    "y_dev=dev_d['overall_r']\n",
    "\n",
    "# vectorizing the development dataset\n",
    "dev_cor=[row for row in X_dev['cleaned comment']]\n",
    "dev_tfidf=vectorizer.transform(dev_cor)\n",
    "\n",
    "clf=SVC()\n",
    "clf.fit(train_tfidf,y_train_b)\n",
    "y_dev_pred=clf.predict(dev_tfidf)\n",
    "\n",
    "print(y_dev_pred)\n",
    "print(\"Accuracy: \", accuracy_score(y_dev, y_dev_pred))\n",
    "print('Report:\\n',classification_report(y_dev,y_dev_pred))"
   ]
  },
  {
   "cell_type": "code",
   "execution_count": 19,
   "id": "8c8552d8",
   "metadata": {},
   "outputs": [
    {
     "name": "stdout",
     "output_type": "stream",
     "text": [
      "Stop Word Removal\n",
      "Accuracy:  [0.596, 0.626, 0.623, 0.606, 0.607, 0.615, 0.646, 0.615, 0.609, 0.616]\n",
      "Mean accuracy 0.6159\n",
      "F1 scores [0.5814833518402918, 0.6088595281124717, 0.6055972393026368, 0.5852381541475697, 0.5889591831478744, 0.5989104264977438, 0.6286672772581599, 0.5966535565203555, 0.5941565277349306, 0.6007634218997113]\n",
      "mean f1 score 0.5989288666461745\n"
     ]
    }
   ],
   "source": [
    "## Stratified 10 fold cross validation \n",
    "from sklearn.model_selection import StratifiedKFold\n",
    "from sklearn.svm import SVC\n",
    "from sklearn.metrics import accuracy_score,f1_score\n",
    "\n",
    "def clearer(com):\n",
    "    # removing new lines\n",
    "    com=com.replace(\"\\t\",\"\")\n",
    "    # removing punctuations\n",
    "    com=\"\".join([character for character in com if character not in punctuation])\n",
    "    # tokenization\n",
    "    com=word_tokenize(com)\n",
    "    # removing stop words\n",
    "    com=[word for word in com if word not in stop_words]\n",
    "    return \" \".join(com)\n",
    "\n",
    "# clean function\n",
    "dev_d['cleaned comment']=dev_d['com'].apply(lambda row: clearer(row))\n",
    "X_dev=dev_d['cleaned comment'].reset_index(drop=True)\n",
    "y_dev=dev_d['overall_r'].reset_index(drop=True)\n",
    "\n",
    "# 10 fold - svc\n",
    "\n",
    "clf=SVC()\n",
    "skf = StratifiedKFold(n_splits=10, shuffle=True, random_state=1)\n",
    "accuracy=[]\n",
    "f1_scores=[]\n",
    "\n",
    "for train_index, test_index in skf.split(X_dev,y_dev):\n",
    "    X_train_fold, X_test_fold = X_dev[train_index], X_dev[test_index]\n",
    "    y_train_fold, y_test_fold = y_dev[train_index], y_dev[test_index]\n",
    "\n",
    "#Vectorizing\n",
    "    vectorizer=TfidfVectorizer()\n",
    "    \n",
    "    train_cor=[row for row in X_train_fold]\n",
    "    test_cor=[row for row in X_test_fold]\n",
    "    train_tfidf=vectorizer.fit_transform(train_cor)\n",
    "    test_tfidf=vectorizer.transform(test_cor)\n",
    "    \n",
    "    clf.fit(train_tfidf, y_train_fold)\n",
    "    pred=clf.predict(test_tfidf)\n",
    "    accuracy.append(accuracy_score(y_test_fold,pred))\n",
    "    f1_scores.append(f1_score(y_test_fold,pred,average='weighted'))\n",
    "                    \n",
    "print(\"Stop Word Removal\")\n",
    "print(\"Accuracy: \", accuracy)\n",
    "print('Mean accuracy',np.mean(accuracy))\n",
    "print('F1 scores',f1_scores)\n",
    "print('mean f1 score',np.mean(f1_scores))"
   ]
  },
  {
   "cell_type": "code",
   "execution_count": 20,
   "id": "c50b403f",
   "metadata": {},
   "outputs": [
    {
     "name": "stdout",
     "output_type": "stream",
     "text": [
      "Lemmatization\n",
      "Accuracy:  [0.595, 0.623, 0.602, 0.608, 0.613, 0.613, 0.64, 0.616, 0.61, 0.627]\n",
      "mean accuracy 0.6147\n",
      "F1 scores [0.5844816931413825, 0.6100461658331758, 0.5876071787271058, 0.5883109376469366, 0.600786416783757, 0.5995686903735468, 0.629518047677978, 0.6018011507268543, 0.5981194651123081, 0.6142926569236277]\n",
      "avg f1 score 0.6014532402946673\n"
     ]
    }
   ],
   "source": [
    "# Stratified 10 fold cross validation \n",
    "from sklearn.model_selection import StratifiedKFold\n",
    "from sklearn.svm import SVC\n",
    "from sklearn.metrics import accuracy_score,f1_score\n",
    "\n",
    "def clearer(com):\n",
    "    ## removing new lines\n",
    "    com=com.replace(\"\\t\",\"\")\n",
    "    ## removing punctuations\n",
    "    com=\"\".join([character for character in com if character not in punctuation])\n",
    "    # tokenization\n",
    "    com=word_tokenize(com)\n",
    "    #lemmatizing\n",
    "    doc=nlp(\" \".join(com))\n",
    "    com=[word.lemma_ for word in doc]\n",
    "    return \" \".join(com)\n",
    "\n",
    "#clean function\n",
    "dev_d['cleaned comment']=dev_d['com'].apply(lambda row: clearer(row))\n",
    "X_dev=dev_d['cleaned comment'].reset_index(drop=True)\n",
    "y_dev=dev_d['overall_r'].reset_index(drop=True)\n",
    "\n",
    "# 10 fold - svc\n",
    "clf=SVC()\n",
    "skf = StratifiedKFold(n_splits=10, shuffle=True, random_state=1)\n",
    "\n",
    "accuracy=[]\n",
    "f1_scores=[]\n",
    "\n",
    "for train_index, test_index in skf.split(X_dev,y_dev):\n",
    "    \n",
    "    X_train_fold, X_test_fold = X_dev[train_index], X_dev[test_index]\n",
    "    y_train_fold, y_test_fold = y_dev[train_index], y_dev[test_index]\n",
    "\n",
    "# Vectorizing\n",
    "    vectorizer=TfidfVectorizer()\n",
    "    \n",
    "    train_cor=[row for row in X_train_fold]\n",
    "    test_cor=[row for row in X_test_fold]\n",
    "    train_tfidf=vectorizer.fit_transform(train_cor)\n",
    "    test_tfidf=vectorizer.transform(test_cor)\n",
    "    \n",
    "    clf.fit(train_tfidf, y_train_fold)\n",
    "    pred=clf.predict(test_tfidf)\n",
    "    accuracy.append(accuracy_score(y_test_fold,pred))\n",
    "    f1_scores.append(f1_score(y_test_fold,pred,average='weighted'))\n",
    "\n",
    "print(\"Lemmatization\")\n",
    "print(\"Accuracy: \", accuracy)\n",
    "print(\"mean accuracy\", np.mean(accuracy))\n",
    "print('F1 scores',f1_scores)\n",
    "print('avg f1 score',np.mean(f1_scores))"
   ]
  },
  {
   "cell_type": "code",
   "execution_count": 21,
   "id": "d0aba912",
   "metadata": {},
   "outputs": [
    {
     "name": "stdout",
     "output_type": "stream",
     "text": [
      "\n",
      "Cleaning: Lowercasing\n",
      "Accuracy:  [0.617, 0.632, 0.618, 0.617, 0.605, 0.621, 0.635, 0.62, 0.598, 0.639]\n",
      "F1 scores [0.6050471761125669, 0.6176230885315658, 0.6034916860543296, 0.5991149175527698, 0.5885491737381909, 0.6044533442660097, 0.6207138857899195, 0.6019546820945, 0.5845869211342307, 0.6241458303530334]\n",
      "avg f1 score 0.6049680705627116\n"
     ]
    }
   ],
   "source": [
    "## Stratified 10 fold cross validation \n",
    "\n",
    "from sklearn.svm import SVC\n",
    "from sklearn.metrics import accuracy_score,f1_score\n",
    "from sklearn.model_selection import StratifiedKFold\n",
    "\n",
    "def clearer(com):\n",
    "    ## making the text lowercase -- we already did this above as well\n",
    "    com=com.lower()\n",
    "    ## removing new lines\n",
    "    com=com.replace(\"\\t\",\"\")\n",
    "    ## removing punctuations\n",
    "    com=\"\".join([character for character in com if character not in punctuation])\n",
    "    ## tokenization\n",
    "    com=word_tokenize(com)\n",
    "    return \" \".join(com)\n",
    "\n",
    "## clean function\n",
    "dev_d['cleaned comment']=dev_d['com'].apply(lambda row: clearer(row))\n",
    "X_dev=dev_d['cleaned comment'].reset_index(drop=True)\n",
    "y_dev=dev_d['overall_r'].reset_index(drop=True)\n",
    "\n",
    "# 10 fold - svc\n",
    "\n",
    "clf=SVC()\n",
    "skf = StratifiedKFold(n_splits=10, shuffle=True, random_state=1)\n",
    "accuracy=[]\n",
    "f1_scores=[]\n",
    "\n",
    "for train_index, test_index in skf.split(X_dev,y_dev):\n",
    "    \n",
    "    X_train_fold, X_test_fold = X_dev[train_index], X_dev[test_index]\n",
    "    y_train_fold, y_test_fold = y_dev[train_index], y_dev[test_index]\n",
    "\n",
    "    ##Vectorizing\n",
    "    vectorizer=TfidfVectorizer()\n",
    "    \n",
    "    train_cor=[row for row in X_train_fold]\n",
    "    test_cor=[row for row in X_test_fold]\n",
    "    train_tfidf=vectorizer.fit_transform(train_cor)\n",
    "    test_tfidf=vectorizer.transform(test_cor)\n",
    "    \n",
    "    clf.fit(train_tfidf, y_train_fold)\n",
    "    pred=clf.predict(test_tfidf)\n",
    "    accuracy.append(accuracy_score(y_test_fold,pred))\n",
    "    f1_scores.append(f1_score(y_test_fold,pred,average='weighted'))\n",
    "\n",
    "print(\"\\nCleaning: Lowercasing\")\n",
    "print(\"Accuracy: \", accuracy)\n",
    "print('F1 scores',f1_scores)\n",
    "print('avg f1 score',np.mean(f1_scores))"
   ]
  },
  {
   "cell_type": "markdown",
   "id": "333ba5cb",
   "metadata": {},
   "source": [
    "### 5. Sentiment classification using VADER lexicon and method"
   ]
  },
  {
   "cell_type": "code",
   "execution_count": 22,
   "id": "2706c291",
   "metadata": {},
   "outputs": [
    {
     "name": "stdout",
     "output_type": "stream",
     "text": [
      "\n",
      "Vader Predictions:\n",
      "avg f1 score 0.32989453797586393\n"
     ]
    }
   ],
   "source": [
    "import nltk\n",
    "#nltk.download('vader_lexicon')\n",
    "from nltk.sentiment.vader import SentimentIntensityAnalyzer\n",
    "from sklearn.metrics import accuracy_score,f1_score\n",
    "\n",
    "sid = SentimentIntensityAnalyzer()\n",
    "dev_d['vader score']=dev_d['com'].apply(lambda row: sid.polarity_scores(row)['compound'])\n",
    "\n",
    "## defining the ranges\n",
    "\n",
    "## vader score below -0.5 is 1 in review\n",
    "## vader score between -0.5 and -0.1666 is 2 in review\n",
    "## vader score between -0.1666 to 0.1666 is 3 in review\n",
    "## vader score between 0.1666 to 0.5 is 4 in review\n",
    "## vader score above 0.5 is 5 in review\n",
    "\n",
    "def vader_to_review(vader_score):\n",
    "    if(vader_score<=-0.6):\n",
    "        return 1\n",
    "    elif(vader_score>-0.6 and vader_score<-0.17):\n",
    "        return 2\n",
    "    elif(vader_score>=-0.17 and vader_score<0.17):\n",
    "        return 3\n",
    "    elif(vader_score>=0.17 and vader_score<0.6):\n",
    "        return 4\n",
    "    elif(vader_score>=0.6):\n",
    "        return 5\n",
    "\n",
    "y_dev_pred=dev_d['vader score'].reset_index(drop=True)\n",
    "y_dev_true=dev_d['overall_r'].reset_index(drop=True)\n",
    "\n",
    "y_dev_pred=y_dev_pred.apply(lambda row: vader_to_review(row))\n",
    "#print(y_dev_pred)\n",
    "## 10 fold\n",
    "from sklearn.model_selection import StratifiedKFold\n",
    "skf = StratifiedKFold(n_splits=10, shuffle=True, random_state=1)\n",
    "accuracy=[]\n",
    "f1_scores=[]\n",
    "\n",
    "for train_index, test_index in skf.split(y_dev_true,y_dev_pred):\n",
    "    X_train_fold, y_dev_true_fold = y_dev_true[train_index], y_dev_true[test_index]\n",
    "    y_train_fold, y_dev_pred_fold = y_dev_pred[train_index], y_dev_pred[test_index]\n",
    "\n",
    "    #print(y_dev_true_fold,y_dev_pred_fold)\n",
    "    accuracy.append(accuracy_score(y_dev_true_fold,y_dev_pred_fold))\n",
    "    f1_scores.append(f1_score(y_dev_true_fold,y_dev_pred_fold,average='weighted'))\n",
    "    #print(classification_report(y_dev_true_fold,y_dev_pred_fold))\n",
    "\n",
    "print(\"\\nVader Predictions:\")\n",
    "#print(\"Accuracy: \", accuracy)\n",
    "#print('F1 scores',f1_scores)\n",
    "print('avg f1 score',np.mean(f1_scores))"
   ]
  },
  {
   "cell_type": "code",
   "execution_count": 23,
   "id": "8b4a6a08",
   "metadata": {},
   "outputs": [
    {
     "name": "stdout",
     "output_type": "stream",
     "text": [
      "\n",
      "Vader Predictions:\n",
      "Accuracy:  [0.796, 0.783, 0.79, 0.784, 0.759, 0.777, 0.789, 0.77, 0.769, 0.782]\n",
      "F1 scores [0.7580129740785203, 0.7436839474324853, 0.7543490683229813, 0.7449561811262136, 0.7115364192382541, 0.7378640399752301, 0.7539611764112053, 0.728073144257703, 0.7252458549863479, 0.7425328015365957]\n",
      "avg f1 score 0.7400215607365537\n"
     ]
    }
   ],
   "source": [
    "import nltk\n",
    "#nltk.download('vader_lexicon')\n",
    "from nltk.sentiment.vader import SentimentIntensityAnalyzer\n",
    "\n",
    "sid = SentimentIntensityAnalyzer()\n",
    "dev_d['vader score']=dev_d['com'].apply(lambda row: sid.polarity_scores(row)['compound'])\n",
    "\n",
    "## defining the ranges\n",
    "\n",
    "## vader score below -0.5 is 1 in review\n",
    "## vader score between -0.5 and -0.1666 is 2 in review\n",
    "## vader score between -0.1666 to 0.1666 is 3 in review\n",
    "## vader score between 0.1666 to 0.5 is 4 in review\n",
    "## vader score above 0.5 is 5 in review\n",
    "\n",
    "def vader_to_score(vader):\n",
    "    if vader>=0.5:\n",
    "        return 1\n",
    "    elif vader<=-0.5:\n",
    "        return -1\n",
    "    elif vader>-0.5 and vader<0.5:\n",
    "        return 0\n",
    "\n",
    "def rating_to_score(rating):\n",
    "    if rating==4 or rating==5:\n",
    "        return 1\n",
    "    elif rating==3:\n",
    "        return 0\n",
    "    elif rating ==1 or rating ==2:\n",
    "        return -1\n",
    "\n",
    "y_dev_pred=dev_d['vader score'].reset_index(drop=True)\n",
    "y_dev_true=dev_d['overall_r'].reset_index(drop=True)\n",
    "\n",
    "y_dev_pred=y_dev_pred.apply(lambda row: vader_to_score(row))\n",
    "y_dev_true=y_dev_true.apply(lambda row: rating_to_score(row))\n",
    "#print(y_dev_pred,y_dev_true)\n",
    "## 10 fold\n",
    "from sklearn.model_selection import StratifiedKFold\n",
    "skf = StratifiedKFold(n_splits=10, shuffle=True, random_state=1)\n",
    "accuracy=[]\n",
    "f1_scores=[]\n",
    "\n",
    "for train_index, test_index in skf.split(y_dev_true,y_dev_pred):\n",
    "    X_train_fold, y_dev_true_fold = y_dev_true[train_index], y_dev_true[test_index]\n",
    "    y_train_fold, y_dev_pred_fold = y_dev_pred[train_index], y_dev_pred[test_index]\n",
    "\n",
    "    #print(y_dev_true_fold,y_dev_pred_fold)\n",
    "    accuracy.append(accuracy_score(y_dev_true_fold,y_dev_pred_fold))\n",
    "    f1_scores.append(f1_score(y_dev_true_fold,y_dev_pred_fold,average='weighted'))\n",
    "\n",
    "print(\"\\nVader Predictions:\")\n",
    "print(\"Accuracy: \", accuracy)\n",
    "print('F1 scores',f1_scores)\n",
    "print('avg f1 score',np.mean(f1_scores))"
   ]
  },
  {
   "cell_type": "markdown",
   "id": "ba7ea3a2",
   "metadata": {},
   "source": [
    "### 6. Combining VADER with the best classifier"
   ]
  },
  {
   "cell_type": "code",
   "execution_count": 24,
   "id": "c0eb996b",
   "metadata": {},
   "outputs": [
    {
     "name": "stderr",
     "output_type": "stream",
     "text": [
      "/tmp/ipykernel_14272/1209241049.py:2: SettingWithCopyWarning: \n",
      "A value is trying to be set on a copy of a slice from a DataFrame.\n",
      "Try using .loc[row_indexer,col_indexer] = value instead\n",
      "\n",
      "See the caveats in the documentation: https://pandas.pydata.org/pandas-docs/stable/user_guide/indexing.html#returning-a-view-versus-a-copy\n",
      "  train_d['cleaned comment']=train_d['com'].apply(lambda row: clearer(row))\n",
      "/tmp/ipykernel_14272/1209241049.py:11: SettingWithCopyWarning: \n",
      "A value is trying to be set on a copy of a slice from a DataFrame.\n",
      "Try using .loc[row_indexer,col_indexer] = value instead\n",
      "\n",
      "See the caveats in the documentation: https://pandas.pydata.org/pandas-docs/stable/user_guide/indexing.html#returning-a-view-versus-a-copy\n",
      "  train_d['vader score']=train_d['com'].apply(lambda row: sid.polarity_scores(row)['compound'])\n"
     ]
    },
    {
     "name": "stdout",
     "output_type": "stream",
     "text": [
      "[4. 4. 4. ... 5. 4. 4.]\n",
      "Accuracy:  0.6072\n",
      "Classification Report:\n",
      "               precision    recall  f1-score   support\n",
      "\n",
      "         1.0       0.56      0.68      0.61       672\n",
      "         2.0       0.28      0.06      0.10       684\n",
      "         3.0       0.42      0.32      0.36      1353\n",
      "         4.0       0.54      0.60      0.57      3237\n",
      "         5.0       0.73      0.79      0.76      4054\n",
      "\n",
      "    accuracy                           0.61     10000\n",
      "   macro avg       0.51      0.49      0.48     10000\n",
      "weighted avg       0.58      0.61      0.59     10000\n",
      "\n"
     ]
    }
   ],
   "source": [
    "## created a new dataframe with vectors and compound score\n",
    "train_d['cleaned comment']=train_d['com'].apply(lambda row: clearer(row))\n",
    "dev_d=dev_d.reset_index(drop=True)\n",
    "dev_d['cleaned comment']=dev_d['com'].apply(lambda row: clearer(row))\n",
    "y_train=train_d['overall_r']\n",
    "y_dev=dev_d['overall_r']\n",
    "\n",
    "vectorizer=TfidfVectorizer()\n",
    "train_cor=[row for row in train_d['cleaned comment']]\n",
    "train_tfidf=vectorizer.fit_transform(train_cor).toarray()\n",
    "train_d['vader score']=train_d['com'].apply(lambda row: sid.polarity_scores(row)['compound'])\n",
    "\n",
    "dev_cor=[row for row in dev_d['cleaned comment']]\n",
    "dev_tfidf=pd.DataFrame(vectorizer.transform(dev_cor).toarray())\n",
    "dev_d['vader score']=dev_d['com'].apply(lambda row: sid.polarity_scores(row)['compound'])\n",
    "\n",
    "train_vader=np.column_stack([train_tfidf,np.array(train_d['vader score'])])\n",
    "dev_vader=np.column_stack([dev_tfidf,np.array(dev_d['vader score'])])\n",
    "\n",
    "# svm with rbf kernel\n",
    "from sklearn.svm import SVC\n",
    "from sklearn.metrics import accuracy_score,classification_report\n",
    "\n",
    "clf=SVC()\n",
    "clf.fit(train_vader,y_train)\n",
    "\n",
    "y_dev_pred=clf.predict(dev_vader)\n",
    "\n",
    "print(y_dev_pred)\n",
    "print(\"Accuracy: \", accuracy_score(y_dev, y_dev_pred))\n",
    "print('Classification Report:\\n',classification_report(y_dev,y_dev_pred))"
   ]
  },
  {
   "cell_type": "markdown",
   "id": "23d3d17f",
   "metadata": {},
   "source": [
    "### 7. Trainig and testing the final method"
   ]
  },
  {
   "cell_type": "code",
   "execution_count": 26,
   "id": "3d4dae7f",
   "metadata": {},
   "outputs": [
    {
     "name": "stderr",
     "output_type": "stream",
     "text": [
      "/tmp/ipykernel_14272/419208419.py:17: SettingWithCopyWarning: \n",
      "A value is trying to be set on a copy of a slice from a DataFrame.\n",
      "Try using .loc[row_indexer,col_indexer] = value instead\n",
      "\n",
      "See the caveats in the documentation: https://pandas.pydata.org/pandas-docs/stable/user_guide/indexing.html#returning-a-view-versus-a-copy\n",
      "  train_d['cleaned comment']=train_d['com'].apply(lambda row: clearer(row))\n",
      "/tmp/ipykernel_14272/419208419.py:18: SettingWithCopyWarning: \n",
      "A value is trying to be set on a copy of a slice from a DataFrame.\n",
      "Try using .loc[row_indexer,col_indexer] = value instead\n",
      "\n",
      "See the caveats in the documentation: https://pandas.pydata.org/pandas-docs/stable/user_guide/indexing.html#returning-a-view-versus-a-copy\n",
      "  test_d['cleaned comment']=test_d['com'].apply(lambda row: clearer(row))\n"
     ]
    },
    {
     "name": "stdout",
     "output_type": "stream",
     "text": [
      "testing the final method\n",
      "Accuracy:  [0.6187]\n",
      "avg accuracy 0.6187\n",
      "F1 scores [0.605352622514554]\n",
      "avg f1 score 0.605352622514554\n"
     ]
    }
   ],
   "source": [
    "from sklearn.svm import SVC\n",
    "from sklearn.metrics import accuracy_score,f1_score\n",
    "\n",
    "\n",
    "def clearer(comm):\n",
    "    ## making the text lowercase -- we already did this above as well\n",
    "    comm=comm.lower()\n",
    "    ## removing new lines\n",
    "    comm=comm.replace(\"\\t\",\"\")\n",
    "    ## removing punctuations\n",
    "    comm=\"\".join([character for character in comm if character not in punctuation])\n",
    "    ## tokenization\n",
    "    comm=word_tokenize(comm)\n",
    "    return \" \".join(comm)\n",
    "\n",
    "## applying the clean function\n",
    "train_d['cleaned comment']=train_d['com'].apply(lambda row: clearer(row))\n",
    "test_d['cleaned comment']=test_d['com'].apply(lambda row: clearer(row))\n",
    "\n",
    "X_train=train_d['cleaned comment'].reset_index(drop=True)\n",
    "y_train=train_d['overall_r'].reset_index(drop=True)\n",
    "\n",
    "X_test=test_d['cleaned comment'].reset_index(drop=True)\n",
    "y_test=test_d['overall_r'].reset_index(drop=True)\n",
    "\n",
    "clf=SVC()\n",
    "\n",
    "train_cor=[row for row in X_train]\n",
    "test_cor=[row for row in X_test]\n",
    "train_tfidf=vectorizer.fit_transform(train_cor)\n",
    "test_tfidf=vectorizer.transform(test_cor)\n",
    "    \n",
    "clf.fit(train_tfidf, y_train)\n",
    "pred=clf.predict(test_tfidf)\n",
    "accuracy=[]\n",
    "f1_scores=[]\n",
    "accuracy.append(accuracy_score(y_test,pred))\n",
    "f1_scores.append(f1_score(y_test,pred,average='weighted'))\n",
    "\n",
    "print(\"testing the final method\")\n",
    "print(\"Accuracy: \", accuracy)\n",
    "print('avg accuracy',np.mean(accuracy))\n",
    "print('F1 scores',f1_scores)\n",
    "print('avg f1 score',np.mean(f1_scores))"
   ]
  }
 ],
 "metadata": {
  "kernelspec": {
   "display_name": "Python 3 (ipykernel)",
   "language": "python",
   "name": "python3"
  },
  "language_info": {
   "codemirror_mode": {
    "name": "ipython",
    "version": 3
   },
   "file_extension": ".py",
   "mimetype": "text/x-python",
   "name": "python",
   "nbconvert_exporter": "python",
   "pygments_lexer": "ipython3",
   "version": "3.11.5"
  }
 },
 "nbformat": 4,
 "nbformat_minor": 5
}
